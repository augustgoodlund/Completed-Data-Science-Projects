{
 "cells": [
  {
   "cell_type": "code",
   "execution_count": 1,
   "id": "a5c314f6-7028-4bd3-bbe2-d7aa5bbb0134",
   "metadata": {},
   "outputs": [],
   "source": [
    "import pandas as pd\n",
    "from matplotlib import pyplot as plt\n",
    "import seaborn as sns\n",
    "import numpy as np\n",
    "import sys"
   ]
  },
  {
   "cell_type": "code",
   "execution_count": 2,
   "id": "32945b2d-b03b-4b6c-9ce4-75d17d1a68a0",
   "metadata": {},
   "outputs": [],
   "source": [
    "data = pd.read_csv('googleplaystore/googleplaystoremaster.csv') #fetches data from googleplaystore folder"
   ]
  },
  {
   "cell_type": "code",
   "execution_count": 3,
   "id": "37f1b089-2c4d-40f2-b0db-cbdf30025491",
   "metadata": {},
   "outputs": [
    {
     "data": {
      "text/html": [
       "<div>\n",
       "<style scoped>\n",
       "    .dataframe tbody tr th:only-of-type {\n",
       "        vertical-align: middle;\n",
       "    }\n",
       "\n",
       "    .dataframe tbody tr th {\n",
       "        vertical-align: top;\n",
       "    }\n",
       "\n",
       "    .dataframe thead th {\n",
       "        text-align: right;\n",
       "    }\n",
       "</style>\n",
       "<table border=\"1\" class=\"dataframe\">\n",
       "  <thead>\n",
       "    <tr style=\"text-align: right;\">\n",
       "      <th></th>\n",
       "      <th>App</th>\n",
       "      <th>Category</th>\n",
       "      <th>Rating</th>\n",
       "      <th>Reviews</th>\n",
       "      <th>Size</th>\n",
       "      <th>Installs</th>\n",
       "      <th>Type</th>\n",
       "      <th>Price</th>\n",
       "      <th>Content Rating</th>\n",
       "      <th>Genres</th>\n",
       "      <th>Last Updated</th>\n",
       "      <th>Current Ver</th>\n",
       "      <th>Android Ver</th>\n",
       "    </tr>\n",
       "  </thead>\n",
       "  <tbody>\n",
       "    <tr>\n",
       "      <th>0</th>\n",
       "      <td>Photo Editor &amp; Candy Camera &amp; Grid &amp; ScrapBook</td>\n",
       "      <td>ART_AND_DESIGN</td>\n",
       "      <td>4.1</td>\n",
       "      <td>159</td>\n",
       "      <td>19M</td>\n",
       "      <td>10,000+</td>\n",
       "      <td>Free</td>\n",
       "      <td>0</td>\n",
       "      <td>Everyone</td>\n",
       "      <td>Art &amp; Design</td>\n",
       "      <td>January 7, 2018</td>\n",
       "      <td>1.0.0</td>\n",
       "      <td>4.0.3 and up</td>\n",
       "    </tr>\n",
       "    <tr>\n",
       "      <th>1</th>\n",
       "      <td>Coloring book moana</td>\n",
       "      <td>ART_AND_DESIGN</td>\n",
       "      <td>3.9</td>\n",
       "      <td>967</td>\n",
       "      <td>14M</td>\n",
       "      <td>500,000+</td>\n",
       "      <td>Free</td>\n",
       "      <td>0</td>\n",
       "      <td>Everyone</td>\n",
       "      <td>Art &amp; Design;Pretend Play</td>\n",
       "      <td>January 15, 2018</td>\n",
       "      <td>2.0.0</td>\n",
       "      <td>4.0.3 and up</td>\n",
       "    </tr>\n",
       "    <tr>\n",
       "      <th>2</th>\n",
       "      <td>U Launcher Lite – FREE Live Cool Themes, Hide ...</td>\n",
       "      <td>ART_AND_DESIGN</td>\n",
       "      <td>4.7</td>\n",
       "      <td>87510</td>\n",
       "      <td>8.7M</td>\n",
       "      <td>5,000,000+</td>\n",
       "      <td>Free</td>\n",
       "      <td>0</td>\n",
       "      <td>Everyone</td>\n",
       "      <td>Art &amp; Design</td>\n",
       "      <td>August 1, 2018</td>\n",
       "      <td>1.2.4</td>\n",
       "      <td>4.0.3 and up</td>\n",
       "    </tr>\n",
       "    <tr>\n",
       "      <th>3</th>\n",
       "      <td>Sketch - Draw &amp; Paint</td>\n",
       "      <td>ART_AND_DESIGN</td>\n",
       "      <td>4.5</td>\n",
       "      <td>215644</td>\n",
       "      <td>25M</td>\n",
       "      <td>50,000,000+</td>\n",
       "      <td>Free</td>\n",
       "      <td>0</td>\n",
       "      <td>Teen</td>\n",
       "      <td>Art &amp; Design</td>\n",
       "      <td>June 8, 2018</td>\n",
       "      <td>Varies with device</td>\n",
       "      <td>4.2 and up</td>\n",
       "    </tr>\n",
       "    <tr>\n",
       "      <th>4</th>\n",
       "      <td>Pixel Draw - Number Art Coloring Book</td>\n",
       "      <td>ART_AND_DESIGN</td>\n",
       "      <td>4.3</td>\n",
       "      <td>967</td>\n",
       "      <td>2.8M</td>\n",
       "      <td>100,000+</td>\n",
       "      <td>Free</td>\n",
       "      <td>0</td>\n",
       "      <td>Everyone</td>\n",
       "      <td>Art &amp; Design;Creativity</td>\n",
       "      <td>June 20, 2018</td>\n",
       "      <td>1.1</td>\n",
       "      <td>4.4 and up</td>\n",
       "    </tr>\n",
       "  </tbody>\n",
       "</table>\n",
       "</div>"
      ],
      "text/plain": [
       "                                                 App        Category  Rating  \\\n",
       "0     Photo Editor & Candy Camera & Grid & ScrapBook  ART_AND_DESIGN     4.1   \n",
       "1                                Coloring book moana  ART_AND_DESIGN     3.9   \n",
       "2  U Launcher Lite – FREE Live Cool Themes, Hide ...  ART_AND_DESIGN     4.7   \n",
       "3                              Sketch - Draw & Paint  ART_AND_DESIGN     4.5   \n",
       "4              Pixel Draw - Number Art Coloring Book  ART_AND_DESIGN     4.3   \n",
       "\n",
       "  Reviews  Size     Installs  Type Price Content Rating  \\\n",
       "0     159   19M      10,000+  Free     0       Everyone   \n",
       "1     967   14M     500,000+  Free     0       Everyone   \n",
       "2   87510  8.7M   5,000,000+  Free     0       Everyone   \n",
       "3  215644   25M  50,000,000+  Free     0           Teen   \n",
       "4     967  2.8M     100,000+  Free     0       Everyone   \n",
       "\n",
       "                      Genres      Last Updated         Current Ver  \\\n",
       "0               Art & Design   January 7, 2018               1.0.0   \n",
       "1  Art & Design;Pretend Play  January 15, 2018               2.0.0   \n",
       "2               Art & Design    August 1, 2018               1.2.4   \n",
       "3               Art & Design      June 8, 2018  Varies with device   \n",
       "4    Art & Design;Creativity     June 20, 2018                 1.1   \n",
       "\n",
       "    Android Ver  \n",
       "0  4.0.3 and up  \n",
       "1  4.0.3 and up  \n",
       "2  4.0.3 and up  \n",
       "3    4.2 and up  \n",
       "4    4.4 and up  "
      ]
     },
     "execution_count": 3,
     "metadata": {},
     "output_type": "execute_result"
    }
   ],
   "source": [
    "data.head()"
   ]
  },
  {
   "cell_type": "code",
   "execution_count": 4,
   "id": "f7905b8b-ae1d-4eb6-bcd0-e4e4cd86dd14",
   "metadata": {},
   "outputs": [
    {
     "data": {
      "text/plain": [
       "(10841, 13)"
      ]
     },
     "execution_count": 4,
     "metadata": {},
     "output_type": "execute_result"
    }
   ],
   "source": [
    "data.shape #fetches number of rows and columns"
   ]
  },
  {
   "cell_type": "code",
   "execution_count": 5,
   "id": "451f970b-9b3e-4b28-a0ff-901d2e07611b",
   "metadata": {},
   "outputs": [
    {
     "data": {
      "text/plain": [
       "App                object\n",
       "Category           object\n",
       "Rating            float64\n",
       "Reviews            object\n",
       "Size               object\n",
       "Installs           object\n",
       "Type               object\n",
       "Price              object\n",
       "Content Rating     object\n",
       "Genres             object\n",
       "Last Updated       object\n",
       "Current Ver        object\n",
       "Android Ver        object\n",
       "dtype: object"
      ]
     },
     "execution_count": 5,
     "metadata": {},
     "output_type": "execute_result"
    }
   ],
   "source": [
    "data.dtypes #reports data types, all are strings except Rating which is a float"
   ]
  },
  {
   "cell_type": "code",
   "execution_count": 6,
   "id": "b027dc6e-e950-400e-9ac7-970ec94e3d32",
   "metadata": {},
   "outputs": [
    {
     "data": {
      "text/plain": [
       "Index(['App', 'Category', 'Rating', 'Reviews', 'Size', 'Installs', 'Type',\n",
       "       'Price', 'Content Rating', 'Genres', 'Last Updated', 'Current Ver',\n",
       "       'Android Ver'],\n",
       "      dtype='object')"
      ]
     },
     "execution_count": 6,
     "metadata": {},
     "output_type": "execute_result"
    }
   ],
   "source": [
    "data.columns #fetch column names"
   ]
  },
  {
   "cell_type": "code",
   "execution_count": 7,
   "id": "b465497e-0cea-4408-a9a6-2d992c674195",
   "metadata": {},
   "outputs": [],
   "source": [
    "#we only need app name, category, type, and price for analysis so drop the others\n",
    "data = data.drop(['Rating', 'Reviews', 'Size', 'Installs', 'Content Rating', 'Last Updated', 'Current Ver', 'Android Ver'], axis=1) "
   ]
  },
  {
   "cell_type": "code",
   "execution_count": 43,
   "id": "b71ae680-0d6c-46de-a4ea-cc2ff5b01381",
   "metadata": {},
   "outputs": [
    {
     "data": {
      "text/html": [
       "<div>\n",
       "<style scoped>\n",
       "    .dataframe tbody tr th:only-of-type {\n",
       "        vertical-align: middle;\n",
       "    }\n",
       "\n",
       "    .dataframe tbody tr th {\n",
       "        vertical-align: top;\n",
       "    }\n",
       "\n",
       "    .dataframe thead th {\n",
       "        text-align: right;\n",
       "    }\n",
       "</style>\n",
       "<table border=\"1\" class=\"dataframe\">\n",
       "  <thead>\n",
       "    <tr style=\"text-align: right;\">\n",
       "      <th></th>\n",
       "      <th>App</th>\n",
       "      <th>Category</th>\n",
       "      <th>Type</th>\n",
       "      <th>Price</th>\n",
       "      <th>Genres</th>\n",
       "    </tr>\n",
       "  </thead>\n",
       "  <tbody>\n",
       "    <tr>\n",
       "      <th>0</th>\n",
       "      <td>Photo Editor &amp; Candy Camera &amp; Grid &amp; ScrapBook</td>\n",
       "      <td>ART_AND_DESIGN</td>\n",
       "      <td>Free</td>\n",
       "      <td>0.0</td>\n",
       "      <td>Art &amp; Design</td>\n",
       "    </tr>\n",
       "    <tr>\n",
       "      <th>1</th>\n",
       "      <td>Coloring book moana</td>\n",
       "      <td>ART_AND_DESIGN</td>\n",
       "      <td>Free</td>\n",
       "      <td>0.0</td>\n",
       "      <td>Art &amp; Design;Pretend Play</td>\n",
       "    </tr>\n",
       "    <tr>\n",
       "      <th>2</th>\n",
       "      <td>U Launcher Lite – FREE Live Cool Themes, Hide ...</td>\n",
       "      <td>ART_AND_DESIGN</td>\n",
       "      <td>Free</td>\n",
       "      <td>0.0</td>\n",
       "      <td>Art &amp; Design</td>\n",
       "    </tr>\n",
       "    <tr>\n",
       "      <th>3</th>\n",
       "      <td>Sketch - Draw &amp; Paint</td>\n",
       "      <td>ART_AND_DESIGN</td>\n",
       "      <td>Free</td>\n",
       "      <td>0.0</td>\n",
       "      <td>Art &amp; Design</td>\n",
       "    </tr>\n",
       "    <tr>\n",
       "      <th>4</th>\n",
       "      <td>Pixel Draw - Number Art Coloring Book</td>\n",
       "      <td>ART_AND_DESIGN</td>\n",
       "      <td>Free</td>\n",
       "      <td>0.0</td>\n",
       "      <td>Art &amp; Design;Creativity</td>\n",
       "    </tr>\n",
       "  </tbody>\n",
       "</table>\n",
       "</div>"
      ],
      "text/plain": [
       "                                                 App        Category  Type  \\\n",
       "0     Photo Editor & Candy Camera & Grid & ScrapBook  ART_AND_DESIGN  Free   \n",
       "1                                Coloring book moana  ART_AND_DESIGN  Free   \n",
       "2  U Launcher Lite – FREE Live Cool Themes, Hide ...  ART_AND_DESIGN  Free   \n",
       "3                              Sketch - Draw & Paint  ART_AND_DESIGN  Free   \n",
       "4              Pixel Draw - Number Art Coloring Book  ART_AND_DESIGN  Free   \n",
       "\n",
       "   Price                     Genres  \n",
       "0    0.0               Art & Design  \n",
       "1    0.0  Art & Design;Pretend Play  \n",
       "2    0.0               Art & Design  \n",
       "3    0.0               Art & Design  \n",
       "4    0.0    Art & Design;Creativity  "
      ]
     },
     "execution_count": 43,
     "metadata": {},
     "output_type": "execute_result"
    }
   ],
   "source": [
    "data.head()"
   ]
  },
  {
   "cell_type": "code",
   "execution_count": 90,
   "id": "46c189c2-861e-47cc-b172-3b151aa6ee55",
   "metadata": {},
   "outputs": [
    {
     "data": {
      "text/plain": [
       "array(['ART_AND_DESIGN', 'AUTO_AND_VEHICLES', 'BEAUTY',\n",
       "       'BOOKS_AND_REFERENCE', 'BUSINESS', 'COMICS', 'COMMUNICATION',\n",
       "       'DATING', 'EDUCATION', 'ENTERTAINMENT', 'EVENTS', 'FINANCE',\n",
       "       'FOOD_AND_DRINK', 'HEALTH_AND_FITNESS', 'HOUSE_AND_HOME',\n",
       "       'LIBRARIES_AND_DEMO', 'LIFESTYLE', 'GAME', 'FAMILY', 'MEDICAL',\n",
       "       'SOCIAL', 'SHOPPING', 'PHOTOGRAPHY', 'SPORTS', 'TRAVEL_AND_LOCAL',\n",
       "       'TOOLS', 'PERSONALIZATION', 'PRODUCTIVITY', 'PARENTING', 'WEATHER',\n",
       "       'VIDEO_PLAYERS', 'NEWS_AND_MAGAZINES', 'MAPS_AND_NAVIGATION',\n",
       "       '1.9'], dtype=object)"
      ]
     },
     "execution_count": 90,
     "metadata": {},
     "output_type": "execute_result"
    }
   ],
   "source": [
    "data['Category'].unique() # view unique values in Category column"
   ]
  },
  {
   "cell_type": "code",
   "execution_count": 72,
   "id": "56778279-93c7-4179-8f29-00a624c40dba",
   "metadata": {},
   "outputs": [],
   "source": [
    "#client only wants Entertainment, Social, and Productivity so I drop the rest\n",
    "cleaned=data[data[\"Category\"].str.contains('ART_AND_DESIGN|AUTO_AND_VEHICLES|BEAUTY|BOOKS_AND_REFERENCE|BUSINESS|COMICS|COMMUNICATION|DATING|EDUCATION|EVENTS|FINANCE|FOOD_AND_DRINK|HEALTH_AND_FITNESS|HOUSE_AND_HOME|LIBRARIES_AND_DEMO|LIFESTYLE|GAME|FAMILY|MEDICAL|SHOPPING|PHOTOGRAPHY|SPORTS|TRAVEL_AND_LOCAL|TOOLS|PERSONALIZATION|PARENTING||WEATHER|VIDEO_PLAYERS|NEWS_AND_MAGAZINES|MAPS_AND_NAVIGATION|1.9')==False]"
   ]
  },
  {
   "cell_type": "code",
   "execution_count": 94,
   "id": "8fe569bf-5836-4ebd-a6cb-824508f8441f",
   "metadata": {},
   "outputs": [],
   "source": [
    "#client only wants Entertainment, Social, and Productivity so I drop the rest\n",
    "cleaned=(data[data['Category'].str.contains('ENTERTAINMENT') | data['Category'].str.contains('SOCIAL') | data['Category'].str.contains('PRODUCTIVITY')])"
   ]
  },
  {
   "cell_type": "code",
   "execution_count": 95,
   "id": "9c09d0c8-afdb-41c4-ba00-5480e4763552",
   "metadata": {},
   "outputs": [
    {
     "data": {
      "text/html": [
       "<div>\n",
       "<style scoped>\n",
       "    .dataframe tbody tr th:only-of-type {\n",
       "        vertical-align: middle;\n",
       "    }\n",
       "\n",
       "    .dataframe tbody tr th {\n",
       "        vertical-align: top;\n",
       "    }\n",
       "\n",
       "    .dataframe thead th {\n",
       "        text-align: right;\n",
       "    }\n",
       "</style>\n",
       "<table border=\"1\" class=\"dataframe\">\n",
       "  <thead>\n",
       "    <tr style=\"text-align: right;\">\n",
       "      <th></th>\n",
       "      <th>App</th>\n",
       "      <th>Category</th>\n",
       "      <th>Type</th>\n",
       "      <th>Price</th>\n",
       "      <th>Genres</th>\n",
       "    </tr>\n",
       "  </thead>\n",
       "  <tbody>\n",
       "    <tr>\n",
       "      <th>855</th>\n",
       "      <td>Netflix</td>\n",
       "      <td>ENTERTAINMENT</td>\n",
       "      <td>Free</td>\n",
       "      <td>0.0</td>\n",
       "      <td>Entertainment</td>\n",
       "    </tr>\n",
       "    <tr>\n",
       "      <th>856</th>\n",
       "      <td>Complete Spanish Movies</td>\n",
       "      <td>ENTERTAINMENT</td>\n",
       "      <td>Free</td>\n",
       "      <td>0.0</td>\n",
       "      <td>Entertainment</td>\n",
       "    </tr>\n",
       "    <tr>\n",
       "      <th>857</th>\n",
       "      <td>Pluto TV - It’s Free TV</td>\n",
       "      <td>ENTERTAINMENT</td>\n",
       "      <td>Free</td>\n",
       "      <td>0.0</td>\n",
       "      <td>Entertainment</td>\n",
       "    </tr>\n",
       "    <tr>\n",
       "      <th>858</th>\n",
       "      <td>Tubi TV - Free Movies &amp; TV</td>\n",
       "      <td>ENTERTAINMENT</td>\n",
       "      <td>Free</td>\n",
       "      <td>0.0</td>\n",
       "      <td>Entertainment</td>\n",
       "    </tr>\n",
       "    <tr>\n",
       "      <th>859</th>\n",
       "      <td>YouTube Kids</td>\n",
       "      <td>ENTERTAINMENT</td>\n",
       "      <td>Free</td>\n",
       "      <td>0.0</td>\n",
       "      <td>Entertainment;Music &amp; Video</td>\n",
       "    </tr>\n",
       "  </tbody>\n",
       "</table>\n",
       "</div>"
      ],
      "text/plain": [
       "                            App       Category  Type  Price  \\\n",
       "855                     Netflix  ENTERTAINMENT  Free    0.0   \n",
       "856     Complete Spanish Movies  ENTERTAINMENT  Free    0.0   \n",
       "857     Pluto TV - It’s Free TV  ENTERTAINMENT  Free    0.0   \n",
       "858  Tubi TV - Free Movies & TV  ENTERTAINMENT  Free    0.0   \n",
       "859                YouTube Kids  ENTERTAINMENT  Free    0.0   \n",
       "\n",
       "                          Genres  \n",
       "855                Entertainment  \n",
       "856                Entertainment  \n",
       "857                Entertainment  \n",
       "858                Entertainment  \n",
       "859  Entertainment;Music & Video  "
      ]
     },
     "execution_count": 95,
     "metadata": {},
     "output_type": "execute_result"
    }
   ],
   "source": [
    "cleaned.head() #checks the above to make sure it worked"
   ]
  },
  {
   "cell_type": "code",
   "execution_count": 100,
   "id": "3dd892b7-b661-4d0e-8f4f-0b923e6ffbf9",
   "metadata": {},
   "outputs": [],
   "source": [
    "free = cleaned.loc[((cleaned['Type'] == 'Free'))] # isolate the free apps"
   ]
  },
  {
   "cell_type": "code",
   "execution_count": 101,
   "id": "535d442c-4808-42da-90bc-db282b1a010b",
   "metadata": {},
   "outputs": [
    {
     "data": {
      "text/plain": [
       "App         835\n",
       "Category    835\n",
       "Type        835\n",
       "Price       835\n",
       "Genres      835\n",
       "dtype: int64"
      ]
     },
     "execution_count": 101,
     "metadata": {},
     "output_type": "execute_result"
    }
   ],
   "source": [
    "free.count() # find total number of free apps"
   ]
  },
  {
   "cell_type": "code",
   "execution_count": 97,
   "id": "55ff80c8-dbed-4a68-b881-69c7a2450ddf",
   "metadata": {},
   "outputs": [],
   "source": [
    "paid=cleaned.loc[((cleaned['Type'] == 'Paid'))] # isolate the paid apps"
   ]
  },
  {
   "cell_type": "code",
   "execution_count": 98,
   "id": "d01ca636-6f3a-4cd9-97be-59728f32cdab",
   "metadata": {},
   "outputs": [
    {
     "data": {
      "text/plain": [
       "App         33\n",
       "Category    33\n",
       "Type        33\n",
       "Price       33\n",
       "Genres      33\n",
       "dtype: int64"
      ]
     },
     "execution_count": 98,
     "metadata": {},
     "output_type": "execute_result"
    }
   ],
   "source": [
    "paid.count() #find total number of paid apps"
   ]
  },
  {
   "cell_type": "code",
   "execution_count": 102,
   "id": "79728692-ada1-48a6-8390-ca7028bad1e5",
   "metadata": {},
   "outputs": [
    {
     "name": "stdout",
     "output_type": "stream",
     "text": [
      "Category\n",
      "PRODUCTIVITY     396\n",
      "SOCIAL           292\n",
      "ENTERTAINMENT    147\n",
      "Name: count, dtype: int64\n"
     ]
    }
   ],
   "source": [
    "freeCategory=free['Category'].value_counts() #get a count of free apps for each category\n",
    "print(freeCategory)"
   ]
  },
  {
   "cell_type": "code",
   "execution_count": 99,
   "id": "e98bfa03-7d0f-455a-b939-53794fe14b78",
   "metadata": {},
   "outputs": [
    {
     "name": "stdout",
     "output_type": "stream",
     "text": [
      "Category\n",
      "PRODUCTIVITY     28\n",
      "SOCIAL            3\n",
      "ENTERTAINMENT     2\n",
      "Name: count, dtype: int64\n"
     ]
    }
   ],
   "source": [
    "paidCategory=paid['Category'].value_counts() #get a count of paid apps for each category\n",
    "\n",
    "print(paidCategory)"
   ]
  },
  {
   "cell_type": "code",
   "execution_count": 103,
   "id": "bf56d43b-fafb-4a4f-b40f-3251ab96226c",
   "metadata": {},
   "outputs": [
    {
     "data": {
      "image/png": "[encoded data removed]",
      "text/plain": [
       "<Figure size 1500x400 with 2 Axes>"
      ]
     },
     "metadata": {},
     "output_type": "display_data"
    }
   ],
   "source": [
    "#create charts\n",
    "plt.subplot(2,1,1) #creates a plot that can stack 2 rows on 1 column. the 3rd number is its  position in the stack\n",
    "freeCategory.plot(figsize=(15,5))\n",
    "plt.ylabel(\"Free\")\n",
    "plt.subplot(2,1,2) #creates a plot that can stack 2 rows on 1 column. the 3rd number is its position in the stack\n",
    "paidCategory.plot(figsize=(15,4))\n",
    "plt.ylabel(\"Paid\")\n",
    "plt.show()"
   ]
  },
  {
   "cell_type": "code",
   "execution_count": 104,
   "id": "9a40b8bb-825e-406d-9aa8-2061eafb9ca7",
   "metadata": {},
   "outputs": [
    {
     "data": {
      "text/plain": [
       "App         33\n",
       "Category    33\n",
       "Type        33\n",
       "Price       33\n",
       "Genres      33\n",
       "dtype: int64"
      ]
     },
     "execution_count": 104,
     "metadata": {},
     "output_type": "execute_result"
    }
   ],
   "source": [
    "paid.count()"
   ]
  },
  {
   "cell_type": "code",
   "execution_count": 105,
   "id": "b6b8633f-ee6a-4df6-ae8d-e3bcd851ee1d",
   "metadata": {},
   "outputs": [
    {
     "name": "stdout",
     "output_type": "stream",
     "text": [
      "Category\n",
      "PRODUCTIVITY     28\n",
      "SOCIAL            3\n",
      "ENTERTAINMENT     2\n",
      "Name: count, dtype: int64\n"
     ]
    }
   ],
   "source": [
    "paidCategory=paid['Category'].value_counts() #get a count of paid apps for each category\n",
    "print(paidCategory)"
   ]
  },
  {
   "cell_type": "code",
   "execution_count": 39,
   "id": "81328cdb-85eb-45db-bebf-4868a88af155",
   "metadata": {},
   "outputs": [],
   "source": [
    "#convert price to string\n",
    "data['Price'] = data['Price'].astype(str)"
   ]
  },
  {
   "cell_type": "code",
   "execution_count": 40,
   "id": "7f8a525c-d71e-4829-924a-be4a37a53ef1",
   "metadata": {},
   "outputs": [],
   "source": [
    "#remove the $ from the Price column\n",
    "data['Price']=data['Price'].str.replace('\\$', '', regex=True)"
   ]
  },
  {
   "cell_type": "code",
   "execution_count": 41,
   "id": "386842ba-8ca0-4c06-ba65-94e2b3f3b324",
   "metadata": {},
   "outputs": [
    {
     "name": "stderr",
     "output_type": "stream",
     "text": [
      "C:\\Users\\augus\\AppData\\Local\\Temp\\ipykernel_14940\\476014233.py:1: FutureWarning: The 'downcast' keyword in fillna is deprecated and will be removed in a future version. Use res.infer_objects(copy=False) to infer non-object dtype, or pd.to_numeric with the 'downcast' keyword to downcast numeric results.\n",
      "  data['Price']=pd.to_numeric(data['Price'], errors='coerce').fillna(0, downcast='infer') #convert price to a numeric value\n"
     ]
    }
   ],
   "source": [
    "data['Price']=pd.to_numeric(data['Price'], errors='coerce').fillna(0, downcast='infer') #convert price to a numeric value"
   ]
  },
  {
   "cell_type": "code",
   "execution_count": 106,
   "id": "dd882a3b-03bf-4072-8198-e88405bd6883",
   "metadata": {},
   "outputs": [
    {
     "data": {
      "text/plain": [
       "App          object\n",
       "Category     object\n",
       "Type         object\n",
       "Price       float64\n",
       "Genres       object\n",
       "dtype: object"
      ]
     },
     "execution_count": 106,
     "metadata": {},
     "output_type": "execute_result"
    }
   ],
   "source": [
    "data.dtypes #checks whether the above worked - price now shows as Float so it did"
   ]
  },
  {
   "cell_type": "code",
   "execution_count": 107,
   "id": "c896bbba-be1e-4aa2-8793-1e45d83b9058",
   "metadata": {},
   "outputs": [
    {
     "data": {
      "text/html": [
       "<div>\n",
       "<style scoped>\n",
       "    .dataframe tbody tr th:only-of-type {\n",
       "        vertical-align: middle;\n",
       "    }\n",
       "\n",
       "    .dataframe tbody tr th {\n",
       "        vertical-align: top;\n",
       "    }\n",
       "\n",
       "    .dataframe thead th {\n",
       "        text-align: right;\n",
       "    }\n",
       "</style>\n",
       "<table border=\"1\" class=\"dataframe\">\n",
       "  <thead>\n",
       "    <tr style=\"text-align: right;\">\n",
       "      <th></th>\n",
       "      <th>App</th>\n",
       "      <th>Category</th>\n",
       "      <th>Type</th>\n",
       "      <th>Price</th>\n",
       "      <th>Genres</th>\n",
       "    </tr>\n",
       "  </thead>\n",
       "  <tbody>\n",
       "    <tr>\n",
       "      <th>995</th>\n",
       "      <td>My Talking Pet</td>\n",
       "      <td>ENTERTAINMENT</td>\n",
       "      <td>Paid</td>\n",
       "      <td>4.99</td>\n",
       "      <td>Entertainment</td>\n",
       "    </tr>\n",
       "    <tr>\n",
       "      <th>1001</th>\n",
       "      <td>Meme Generator</td>\n",
       "      <td>ENTERTAINMENT</td>\n",
       "      <td>Paid</td>\n",
       "      <td>2.99</td>\n",
       "      <td>Entertainment</td>\n",
       "    </tr>\n",
       "    <tr>\n",
       "      <th>3564</th>\n",
       "      <td>aCalendar+ Calendar &amp; Tasks</td>\n",
       "      <td>PRODUCTIVITY</td>\n",
       "      <td>Paid</td>\n",
       "      <td>5.99</td>\n",
       "      <td>Productivity</td>\n",
       "    </tr>\n",
       "    <tr>\n",
       "      <th>4165</th>\n",
       "      <td>Ramfer - CNC Lathe G-code Tool</td>\n",
       "      <td>PRODUCTIVITY</td>\n",
       "      <td>Paid</td>\n",
       "      <td>2.99</td>\n",
       "      <td>Productivity</td>\n",
       "    </tr>\n",
       "    <tr>\n",
       "      <th>4358</th>\n",
       "      <td>m&gt;notes notepad</td>\n",
       "      <td>PRODUCTIVITY</td>\n",
       "      <td>Paid</td>\n",
       "      <td>2.99</td>\n",
       "      <td>Productivity</td>\n",
       "    </tr>\n",
       "  </tbody>\n",
       "</table>\n",
       "</div>"
      ],
      "text/plain": [
       "                                 App       Category  Type  Price  \\\n",
       "995                   My Talking Pet  ENTERTAINMENT  Paid   4.99   \n",
       "1001                  Meme Generator  ENTERTAINMENT  Paid   2.99   \n",
       "3564     aCalendar+ Calendar & Tasks   PRODUCTIVITY  Paid   5.99   \n",
       "4165  Ramfer - CNC Lathe G-code Tool   PRODUCTIVITY  Paid   2.99   \n",
       "4358                 m>notes notepad   PRODUCTIVITY  Paid   2.99   \n",
       "\n",
       "             Genres  \n",
       "995   Entertainment  \n",
       "1001  Entertainment  \n",
       "3564   Productivity  \n",
       "4165   Productivity  \n",
       "4358   Productivity  "
      ]
     },
     "execution_count": 107,
     "metadata": {},
     "output_type": "execute_result"
    }
   ],
   "source": [
    "paid.head()"
   ]
  },
  {
   "cell_type": "code",
   "execution_count": 108,
   "id": "0bb193a6-94cb-4ba3-b89d-3eefc8d61ab2",
   "metadata": {},
   "outputs": [],
   "source": [
    "#Sort the data in descending order\n",
    "sorted=paid.sort_values(by='Price', ascending=False)"
   ]
  },
  {
   "cell_type": "code",
   "execution_count": 120,
   "id": "fe868325-1d58-48de-8be4-65bf6aa10986",
   "metadata": {},
   "outputs": [
    {
     "data": {
      "text/html": [
       "<div>\n",
       "<style scoped>\n",
       "    .dataframe tbody tr th:only-of-type {\n",
       "        vertical-align: middle;\n",
       "    }\n",
       "\n",
       "    .dataframe tbody tr th {\n",
       "        vertical-align: top;\n",
       "    }\n",
       "\n",
       "    .dataframe thead th {\n",
       "        text-align: right;\n",
       "    }\n",
       "</style>\n",
       "<table border=\"1\" class=\"dataframe\">\n",
       "  <thead>\n",
       "    <tr style=\"text-align: right;\">\n",
       "      <th></th>\n",
       "      <th>App</th>\n",
       "      <th>Category</th>\n",
       "      <th>Type</th>\n",
       "      <th>Price</th>\n",
       "      <th>Genres</th>\n",
       "    </tr>\n",
       "  </thead>\n",
       "  <tbody>\n",
       "    <tr>\n",
       "      <th>6692</th>\n",
       "      <td>cronometra-br</td>\n",
       "      <td>PRODUCTIVITY</td>\n",
       "      <td>Paid</td>\n",
       "      <td>154.99</td>\n",
       "      <td>Productivity</td>\n",
       "    </tr>\n",
       "    <tr>\n",
       "      <th>5307</th>\n",
       "      <td>Ak Parti Yardım Toplama</td>\n",
       "      <td>SOCIAL</td>\n",
       "      <td>Paid</td>\n",
       "      <td>13.99</td>\n",
       "      <td>Social</td>\n",
       "    </tr>\n",
       "    <tr>\n",
       "      <th>8211</th>\n",
       "      <td>ACCDB MDB DB Manager Pro - Editor for MS Access</td>\n",
       "      <td>PRODUCTIVITY</td>\n",
       "      <td>Paid</td>\n",
       "      <td>8.99</td>\n",
       "      <td>Productivity</td>\n",
       "    </tr>\n",
       "    <tr>\n",
       "      <th>8616</th>\n",
       "      <td>MC.Fitting</td>\n",
       "      <td>PRODUCTIVITY</td>\n",
       "      <td>Paid</td>\n",
       "      <td>8.49</td>\n",
       "      <td>Productivity</td>\n",
       "    </tr>\n",
       "    <tr>\n",
       "      <th>10450</th>\n",
       "      <td>Police Field Interview FI Card</td>\n",
       "      <td>PRODUCTIVITY</td>\n",
       "      <td>Paid</td>\n",
       "      <td>7.99</td>\n",
       "      <td>Productivity</td>\n",
       "    </tr>\n",
       "  </tbody>\n",
       "</table>\n",
       "</div>"
      ],
      "text/plain": [
       "                                                   App      Category  Type  \\\n",
       "6692                                     cronometra-br  PRODUCTIVITY  Paid   \n",
       "5307                           Ak Parti Yardım Toplama        SOCIAL  Paid   \n",
       "8211   ACCDB MDB DB Manager Pro - Editor for MS Access  PRODUCTIVITY  Paid   \n",
       "8616                                        MC.Fitting  PRODUCTIVITY  Paid   \n",
       "10450                   Police Field Interview FI Card  PRODUCTIVITY  Paid   \n",
       "\n",
       "        Price        Genres  \n",
       "6692   154.99  Productivity  \n",
       "5307    13.99        Social  \n",
       "8211     8.99  Productivity  \n",
       "8616     8.49  Productivity  \n",
       "10450    7.99  Productivity  "
      ]
     },
     "execution_count": 120,
     "metadata": {},
     "output_type": "execute_result"
    }
   ],
   "source": [
    "#Show top 5 paid apps\n",
    "sorted.head()"
   ]
  },
  {
   "cell_type": "code",
   "execution_count": 111,
   "id": "fddcc3e6-5166-49cf-b917-5d9c62e0ebaa",
   "metadata": {},
   "outputs": [
    {
     "data": {
      "text/html": [
       "<div>\n",
       "<style scoped>\n",
       "    .dataframe tbody tr th:only-of-type {\n",
       "        vertical-align: middle;\n",
       "    }\n",
       "\n",
       "    .dataframe tbody tr th {\n",
       "        vertical-align: top;\n",
       "    }\n",
       "\n",
       "    .dataframe thead th {\n",
       "        text-align: right;\n",
       "    }\n",
       "</style>\n",
       "<table border=\"1\" class=\"dataframe\">\n",
       "  <thead>\n",
       "    <tr style=\"text-align: right;\">\n",
       "      <th></th>\n",
       "      <th>App</th>\n",
       "      <th>Category</th>\n",
       "      <th>Type</th>\n",
       "      <th>Price</th>\n",
       "      <th>Genres</th>\n",
       "    </tr>\n",
       "  </thead>\n",
       "  <tbody>\n",
       "    <tr>\n",
       "      <th>8359</th>\n",
       "      <td>Diseño de columnas NTC - RSEE 2017</td>\n",
       "      <td>PRODUCTIVITY</td>\n",
       "      <td>Paid</td>\n",
       "      <td>0.99</td>\n",
       "      <td>Productivity</td>\n",
       "    </tr>\n",
       "    <tr>\n",
       "      <th>8526</th>\n",
       "      <td>DL Image Manager</td>\n",
       "      <td>PRODUCTIVITY</td>\n",
       "      <td>Paid</td>\n",
       "      <td>0.99</td>\n",
       "      <td>Productivity</td>\n",
       "    </tr>\n",
       "    <tr>\n",
       "      <th>4721</th>\n",
       "      <td>W-History Standalone</td>\n",
       "      <td>SOCIAL</td>\n",
       "      <td>Paid</td>\n",
       "      <td>0.99</td>\n",
       "      <td>Social</td>\n",
       "    </tr>\n",
       "    <tr>\n",
       "      <th>6292</th>\n",
       "      <td>BI Barcode Scanner</td>\n",
       "      <td>PRODUCTIVITY</td>\n",
       "      <td>Paid</td>\n",
       "      <td>0.99</td>\n",
       "      <td>Productivity</td>\n",
       "    </tr>\n",
       "    <tr>\n",
       "      <th>4971</th>\n",
       "      <td>WhatsFake Pro (Ad free)</td>\n",
       "      <td>SOCIAL</td>\n",
       "      <td>Paid</td>\n",
       "      <td>0.99</td>\n",
       "      <td>Social</td>\n",
       "    </tr>\n",
       "  </tbody>\n",
       "</table>\n",
       "</div>"
      ],
      "text/plain": [
       "                                     App      Category  Type  Price  \\\n",
       "8359  Diseño de columnas NTC - RSEE 2017  PRODUCTIVITY  Paid   0.99   \n",
       "8526                    DL Image Manager  PRODUCTIVITY  Paid   0.99   \n",
       "4721                W-History Standalone        SOCIAL  Paid   0.99   \n",
       "6292                  BI Barcode Scanner  PRODUCTIVITY  Paid   0.99   \n",
       "4971             WhatsFake Pro (Ad free)        SOCIAL  Paid   0.99   \n",
       "\n",
       "            Genres  \n",
       "8359  Productivity  \n",
       "8526  Productivity  \n",
       "4721        Social  \n",
       "6292  Productivity  \n",
       "4971        Social  "
      ]
     },
     "execution_count": 111,
     "metadata": {},
     "output_type": "execute_result"
    }
   ],
   "source": [
    "sorted.tail() #shows bottom 5 paid apps"
   ]
  },
  {
   "cell_type": "code",
   "execution_count": 112,
   "id": "f3227081-89d7-43c2-bcb8-69537afc08b7",
   "metadata": {},
   "outputs": [
    {
     "name": "stderr",
     "output_type": "stream",
     "text": [
      "C:\\Users\\augus\\AppData\\Local\\Temp\\ipykernel_14940\\3577696564.py:1: FutureWarning: The 'axis' keyword in DataFrame.groupby is deprecated and will be removed in a future version.\n",
      "  topPaid = sorted.groupby(by='Category', axis=0, level=None, as_index=True, sort=True, group_keys=True)\n"
     ]
    }
   ],
   "source": [
    "topPaid = sorted.groupby(by='Category', axis=0, level=None, as_index=True, sort=True, group_keys=True)"
   ]
  },
  {
   "cell_type": "code",
   "execution_count": 113,
   "id": "4053bb18-7297-4838-950d-f980fcba09d4",
   "metadata": {},
   "outputs": [
    {
     "data": {
      "text/html": [
       "<div>\n",
       "<style scoped>\n",
       "    .dataframe tbody tr th:only-of-type {\n",
       "        vertical-align: middle;\n",
       "    }\n",
       "\n",
       "    .dataframe tbody tr th {\n",
       "        vertical-align: top;\n",
       "    }\n",
       "\n",
       "    .dataframe thead th {\n",
       "        text-align: right;\n",
       "    }\n",
       "</style>\n",
       "<table border=\"1\" class=\"dataframe\">\n",
       "  <thead>\n",
       "    <tr style=\"text-align: right;\">\n",
       "      <th></th>\n",
       "      <th>App</th>\n",
       "      <th>Type</th>\n",
       "      <th>Price</th>\n",
       "      <th>Genres</th>\n",
       "    </tr>\n",
       "    <tr>\n",
       "      <th>Category</th>\n",
       "      <th></th>\n",
       "      <th></th>\n",
       "      <th></th>\n",
       "      <th></th>\n",
       "    </tr>\n",
       "  </thead>\n",
       "  <tbody>\n",
       "    <tr>\n",
       "      <th>ENTERTAINMENT</th>\n",
       "      <td>My Talking Pet</td>\n",
       "      <td>Paid</td>\n",
       "      <td>4.99</td>\n",
       "      <td>Entertainment</td>\n",
       "    </tr>\n",
       "    <tr>\n",
       "      <th>PRODUCTIVITY</th>\n",
       "      <td>cronometra-br</td>\n",
       "      <td>Paid</td>\n",
       "      <td>154.99</td>\n",
       "      <td>Productivity</td>\n",
       "    </tr>\n",
       "    <tr>\n",
       "      <th>SOCIAL</th>\n",
       "      <td>Ak Parti Yardım Toplama</td>\n",
       "      <td>Paid</td>\n",
       "      <td>13.99</td>\n",
       "      <td>Social</td>\n",
       "    </tr>\n",
       "  </tbody>\n",
       "</table>\n",
       "</div>"
      ],
      "text/plain": [
       "                                   App  Type   Price         Genres\n",
       "Category                                                           \n",
       "ENTERTAINMENT           My Talking Pet  Paid    4.99  Entertainment\n",
       "PRODUCTIVITY             cronometra-br  Paid  154.99   Productivity\n",
       "SOCIAL         Ak Parti Yardım Toplama  Paid   13.99         Social"
      ]
     },
     "execution_count": 113,
     "metadata": {},
     "output_type": "execute_result"
    }
   ],
   "source": [
    "#Shows highest priced app in each category\n",
    "topPaid.first() "
   ]
  },
  {
   "cell_type": "code",
   "execution_count": 116,
   "id": "d49186e8-ff6b-441e-9925-f06862a526f1",
   "metadata": {},
   "outputs": [
    {
     "data": {
      "text/html": [
       "<div>\n",
       "<style scoped>\n",
       "    .dataframe tbody tr th:only-of-type {\n",
       "        vertical-align: middle;\n",
       "    }\n",
       "\n",
       "    .dataframe tbody tr th {\n",
       "        vertical-align: top;\n",
       "    }\n",
       "\n",
       "    .dataframe thead th {\n",
       "        text-align: right;\n",
       "    }\n",
       "</style>\n",
       "<table border=\"1\" class=\"dataframe\">\n",
       "  <thead>\n",
       "    <tr style=\"text-align: right;\">\n",
       "      <th></th>\n",
       "      <th>App</th>\n",
       "      <th>Type</th>\n",
       "      <th>Price</th>\n",
       "      <th>Genres</th>\n",
       "    </tr>\n",
       "    <tr>\n",
       "      <th>Category</th>\n",
       "      <th></th>\n",
       "      <th></th>\n",
       "      <th></th>\n",
       "      <th></th>\n",
       "    </tr>\n",
       "  </thead>\n",
       "  <tbody>\n",
       "    <tr>\n",
       "      <th>ENTERTAINMENT</th>\n",
       "      <td>Meme Generator</td>\n",
       "      <td>Paid</td>\n",
       "      <td>2.99</td>\n",
       "      <td>Entertainment</td>\n",
       "    </tr>\n",
       "    <tr>\n",
       "      <th>PRODUCTIVITY</th>\n",
       "      <td>BI Barcode Scanner</td>\n",
       "      <td>Paid</td>\n",
       "      <td>0.99</td>\n",
       "      <td>Productivity</td>\n",
       "    </tr>\n",
       "    <tr>\n",
       "      <th>SOCIAL</th>\n",
       "      <td>WhatsFake Pro (Ad free)</td>\n",
       "      <td>Paid</td>\n",
       "      <td>0.99</td>\n",
       "      <td>Social</td>\n",
       "    </tr>\n",
       "  </tbody>\n",
       "</table>\n",
       "</div>"
      ],
      "text/plain": [
       "                                   App  Type  Price         Genres\n",
       "Category                                                          \n",
       "ENTERTAINMENT           Meme Generator  Paid   2.99  Entertainment\n",
       "PRODUCTIVITY        BI Barcode Scanner  Paid   0.99   Productivity\n",
       "SOCIAL         WhatsFake Pro (Ad free)  Paid   0.99         Social"
      ]
     },
     "execution_count": 116,
     "metadata": {},
     "output_type": "execute_result"
    }
   ],
   "source": [
    "#Shows lowest priced app in each category\n",
    "topPaid.last()"
   ]
  }
 ],
 "metadata": {
  "kernelspec": {
   "display_name": "Python 3 (ipykernel)",
   "language": "python",
   "name": "python3"
  },
  "language_info": {
   "codemirror_mode": {
    "name": "ipython",
    "version": 3
   },
   "file_extension": ".py",
   "mimetype": "text/x-python",
   "name": "python",
   "nbconvert_exporter": "python",
   "pygments_lexer": "ipython3",
   "version": "3.11.7"
  }
 },
 "nbformat": 4,
 "nbformat_minor": 5
}
