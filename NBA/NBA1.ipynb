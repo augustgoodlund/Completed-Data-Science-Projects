{
 "cells": [
  {
   "cell_type": "code",
<<<<<<< Updated upstream
   "execution_count": 1,
   "id": "4e5927c1-0091-4deb-bf74-c32f6622b208",
=======
   "execution_count": 89,
   "id": "0b7e3269-ab5d-4d72-8e50-f07b8177edd6",
>>>>>>> Stashed changes
   "metadata": {},
   "outputs": [],
   "source": [
    "import pandas as pd\n",
    "import matplotlib.patches as mpatches\n",
    "import matplotlib.pyplot as plt\n",
<<<<<<< Updated upstream
    "import seaborn as sns"
=======
    "import seaborn as sns\n",
    "import numpy as np\n",
    "pd.options.display.max_rows=10"
>>>>>>> Stashed changes
   ]
  },
  {
   "cell_type": "code",
<<<<<<< Updated upstream
   "execution_count": 2,
   "id": "3442689a-f458-4cbc-8486-d3484af4eaf9",
   "metadata": {},
   "outputs": [],
   "source": [
    "data=pd.read_csv('NBA_Stats_1950_2021_raw.csv')"
   ]
  },
  {
   "cell_type": "code",
   "execution_count": 3,
   "id": "8a84b647-7c69-476e-bb0e-726fbe3bb3bd",
=======
   "execution_count": 65,
   "id": "4065bf64-7d9a-40a2-b2e8-8b463fe0b043",
>>>>>>> Stashed changes
   "metadata": {},
   "outputs": [
    {
     "data": {
      "text/html": [
       "<div>\n",
       "<style scoped>\n",
       "    .dataframe tbody tr th:only-of-type {\n",
       "        vertical-align: middle;\n",
       "    }\n",
       "\n",
       "    .dataframe tbody tr th {\n",
       "        vertical-align: top;\n",
       "    }\n",
       "\n",
       "    .dataframe thead th {\n",
       "        text-align: right;\n",
       "    }\n",
       "</style>\n",
       "<table border=\"1\" class=\"dataframe\">\n",
       "  <thead>\n",
       "    <tr style=\"text-align: right;\">\n",
       "      <th></th>\n",
       "      <th>Year</th>\n",
       "      <th>Player</th>\n",
       "      <th>Team</th>\n",
       "      <th>GP</th>\n",
       "      <th>MIN</th>\n",
       "      <th>FGM</th>\n",
       "      <th>FGA</th>\n",
       "      <th>3PM</th>\n",
       "      <th>3PA</th>\n",
       "      <th>FTM</th>\n",
       "      <th>FTA</th>\n",
       "      <th>TOV</th>\n",
       "      <th>PF</th>\n",
       "      <th>ORB</th>\n",
       "      <th>DRB</th>\n",
       "      <th>REB</th>\n",
       "      <th>AST</th>\n",
       "      <th>STL</th>\n",
       "      <th>BLK</th>\n",
       "      <th>PTS</th>\n",
       "    </tr>\n",
       "  </thead>\n",
       "  <tbody>\n",
       "    <tr>\n",
       "      <th>0</th>\n",
       "      <td>1950</td>\n",
       "      <td>Curly Armstrong</td>\n",
       "      <td>FTW</td>\n",
       "      <td>63.0</td>\n",
       "      <td>NaN</td>\n",
       "      <td>144.0</td>\n",
       "      <td>516.0</td>\n",
       "      <td>NaN</td>\n",
       "      <td>NaN</td>\n",
       "      <td>170.0</td>\n",
       "      <td>241.0</td>\n",
       "      <td>NaN</td>\n",
       "      <td>217.0</td>\n",
       "      <td>NaN</td>\n",
       "      <td>NaN</td>\n",
       "      <td>NaN</td>\n",
       "      <td>176.0</td>\n",
       "      <td>NaN</td>\n",
       "      <td>NaN</td>\n",
       "      <td>458.0</td>\n",
       "    </tr>\n",
       "    <tr>\n",
       "      <th>1</th>\n",
       "      <td>1950</td>\n",
       "      <td>Cliff Barker</td>\n",
       "      <td>INO</td>\n",
       "      <td>49.0</td>\n",
       "      <td>NaN</td>\n",
       "      <td>102.0</td>\n",
       "      <td>274.0</td>\n",
       "      <td>NaN</td>\n",
       "      <td>NaN</td>\n",
       "      <td>75.0</td>\n",
       "      <td>106.0</td>\n",
       "      <td>NaN</td>\n",
       "      <td>99.0</td>\n",
       "      <td>NaN</td>\n",
       "      <td>NaN</td>\n",
       "      <td>NaN</td>\n",
       "      <td>109.0</td>\n",
       "      <td>NaN</td>\n",
       "      <td>NaN</td>\n",
       "      <td>279.0</td>\n",
       "    </tr>\n",
       "    <tr>\n",
       "      <th>2</th>\n",
       "      <td>1950</td>\n",
       "      <td>Leo Barnhorst</td>\n",
       "      <td>CHS</td>\n",
       "      <td>67.0</td>\n",
       "      <td>NaN</td>\n",
       "      <td>174.0</td>\n",
       "      <td>499.0</td>\n",
       "      <td>NaN</td>\n",
       "      <td>NaN</td>\n",
       "      <td>90.0</td>\n",
       "      <td>129.0</td>\n",
       "      <td>NaN</td>\n",
       "      <td>192.0</td>\n",
       "      <td>NaN</td>\n",
       "      <td>NaN</td>\n",
       "      <td>NaN</td>\n",
       "      <td>140.0</td>\n",
       "      <td>NaN</td>\n",
       "      <td>NaN</td>\n",
       "      <td>438.0</td>\n",
       "    </tr>\n",
       "    <tr>\n",
       "      <th>3</th>\n",
       "      <td>1950</td>\n",
       "      <td>Ed Bartels</td>\n",
       "      <td>TOT</td>\n",
       "      <td>15.0</td>\n",
       "      <td>NaN</td>\n",
       "      <td>22.0</td>\n",
       "      <td>86.0</td>\n",
       "      <td>NaN</td>\n",
       "      <td>NaN</td>\n",
       "      <td>19.0</td>\n",
       "      <td>34.0</td>\n",
       "      <td>NaN</td>\n",
       "      <td>29.0</td>\n",
       "      <td>NaN</td>\n",
       "      <td>NaN</td>\n",
       "      <td>NaN</td>\n",
       "      <td>20.0</td>\n",
       "      <td>NaN</td>\n",
       "      <td>NaN</td>\n",
       "      <td>63.0</td>\n",
       "    </tr>\n",
       "    <tr>\n",
       "      <th>4</th>\n",
       "      <td>1950</td>\n",
       "      <td>Ed Bartels</td>\n",
       "      <td>DNN</td>\n",
       "      <td>13.0</td>\n",
       "      <td>NaN</td>\n",
       "      <td>21.0</td>\n",
       "      <td>82.0</td>\n",
       "      <td>NaN</td>\n",
       "      <td>NaN</td>\n",
       "      <td>17.0</td>\n",
       "      <td>31.0</td>\n",
       "      <td>NaN</td>\n",
       "      <td>27.0</td>\n",
       "      <td>NaN</td>\n",
       "      <td>NaN</td>\n",
       "      <td>NaN</td>\n",
       "      <td>20.0</td>\n",
       "      <td>NaN</td>\n",
       "      <td>NaN</td>\n",
       "      <td>59.0</td>\n",
       "    </tr>\n",
       "  </tbody>\n",
       "</table>\n",
       "</div>"
      ],
      "text/plain": [
       "   Year           Player Team    GP  MIN    FGM    FGA  3PM  3PA    FTM  \\\n",
       "0  1950  Curly Armstrong  FTW  63.0  NaN  144.0  516.0  NaN  NaN  170.0   \n",
       "1  1950     Cliff Barker  INO  49.0  NaN  102.0  274.0  NaN  NaN   75.0   \n",
       "2  1950    Leo Barnhorst  CHS  67.0  NaN  174.0  499.0  NaN  NaN   90.0   \n",
       "3  1950       Ed Bartels  TOT  15.0  NaN   22.0   86.0  NaN  NaN   19.0   \n",
       "4  1950       Ed Bartels  DNN  13.0  NaN   21.0   82.0  NaN  NaN   17.0   \n",
       "\n",
       "     FTA  TOV     PF  ORB  DRB  REB    AST  STL  BLK    PTS  \n",
       "0  241.0  NaN  217.0  NaN  NaN  NaN  176.0  NaN  NaN  458.0  \n",
       "1  106.0  NaN   99.0  NaN  NaN  NaN  109.0  NaN  NaN  279.0  \n",
       "2  129.0  NaN  192.0  NaN  NaN  NaN  140.0  NaN  NaN  438.0  \n",
       "3   34.0  NaN   29.0  NaN  NaN  NaN   20.0  NaN  NaN   63.0  \n",
       "4   31.0  NaN   27.0  NaN  NaN  NaN   20.0  NaN  NaN   59.0  "
      ]
     },
<<<<<<< Updated upstream
     "execution_count": 3,
=======
     "execution_count": 65,
>>>>>>> Stashed changes
     "metadata": {},
     "output_type": "execute_result"
    }
   ],
   "source": [
<<<<<<< Updated upstream
    "data.head()"
=======
    "df=pd.read_csv(\"NBA_Stats_1950_2021_raw.csv\")\n",
    "df.head()"
>>>>>>> Stashed changes
   ]
  },
  {
   "cell_type": "code",
<<<<<<< Updated upstream
   "execution_count": 4,
   "id": "92238495-531e-461d-8f35-a5077338379d",
=======
   "execution_count": 8,
   "id": "22c6d320-d1dd-47e2-a3d4-c84dc03fbd67",
   "metadata": {},
   "outputs": [],
   "source": [
    "#client requested age(year), city(team), total minutes played(MIN), and games played(GP). \n",
    "#I also need a metric to measure\n",
    "#I can calculate a performance index with (PTS+REB+AST+STL+BLK)-(PF+(FTA-FTM)+(3PA-3PM))\n",
    "#I truncated this from the performance calculation on Wikipedia's Basketball Statistics page: https://en.wikipedia.org/wiki/Basketball_statistics#:~:text=REB%2C%20OREB%2C%20DREB%3A%20rebounds,TO%3A%20turnovers"
   ]
  },
  {
   "cell_type": "code",
   "execution_count": 9,
   "id": "8d0e4310-9544-4ee4-a6f9-444c40cffbe6",
>>>>>>> Stashed changes
   "metadata": {},
   "outputs": [
    {
     "data": {
      "text/plain": [
       "(26176, 20)"
      ]
     },
<<<<<<< Updated upstream
     "execution_count": 4,
=======
     "execution_count": 9,
>>>>>>> Stashed changes
     "metadata": {},
     "output_type": "execute_result"
    }
   ],
   "source": [
<<<<<<< Updated upstream
    "data.shape"
=======
    "df.shape"
>>>>>>> Stashed changes
   ]
  },
  {
   "cell_type": "code",
<<<<<<< Updated upstream
   "execution_count": 5,
   "id": "2d836dc6-a0bf-4524-b56a-820ec1c81b90",
=======
   "execution_count": 10,
   "id": "be7cbf42-073a-4632-9dd5-55c57306e7aa",
>>>>>>> Stashed changes
   "metadata": {},
   "outputs": [
    {
     "data": {
      "text/plain": [
       "Year        int64\n",
       "Player     object\n",
       "Team       object\n",
       "GP        float64\n",
       "MIN       float64\n",
       "FGM       float64\n",
       "FGA       float64\n",
       "3PM       float64\n",
       "3PA       float64\n",
       "FTM       float64\n",
       "FTA       float64\n",
       "TOV       float64\n",
       "PF        float64\n",
       "ORB       float64\n",
       "DRB       float64\n",
       "REB       float64\n",
       "AST       float64\n",
       "STL       float64\n",
       "BLK       float64\n",
       "PTS       float64\n",
       "dtype: object"
      ]
     },
<<<<<<< Updated upstream
     "execution_count": 5,
=======
     "execution_count": 10,
>>>>>>> Stashed changes
     "metadata": {},
     "output_type": "execute_result"
    }
   ],
   "source": [
<<<<<<< Updated upstream
    "data.dtypes"
=======
    "df.dtypes"
>>>>>>> Stashed changes
   ]
  },
  {
   "cell_type": "code",
<<<<<<< Updated upstream
   "execution_count": 6,
   "id": "3697e606-2d68-4116-93de-5f2a2447f26d",
=======
   "execution_count": 11,
   "id": "7bec12aa-9185-4a8c-851a-8997867b58eb",
>>>>>>> Stashed changes
   "metadata": {},
   "outputs": [
    {
     "data": {
      "text/plain": [
       "Index(['Year', 'Player', 'Team', 'GP', 'MIN', 'FGM', 'FGA', '3PM', '3PA',\n",
       "       'FTM', 'FTA', 'TOV', 'PF', 'ORB', 'DRB', 'REB', 'AST', 'STL', 'BLK',\n",
       "       'PTS'],\n",
       "      dtype='object')"
      ]
     },
<<<<<<< Updated upstream
     "execution_count": 6,
=======
     "execution_count": 11,
>>>>>>> Stashed changes
     "metadata": {},
     "output_type": "execute_result"
    }
   ],
   "source": [
<<<<<<< Updated upstream
    "data.columns"
=======
    "df.columns"
   ]
  },
  {
   "cell_type": "code",
   "execution_count": 66,
   "id": "9ae51295-b299-44d9-9455-80ea3520255c",
   "metadata": {},
   "outputs": [],
   "source": [
    "df=df.drop(['TOV','ORB', 'DRB'], axis=1)"
   ]
  },
  {
   "cell_type": "code",
   "execution_count": 67,
   "id": "cc3029a7-a272-4b9b-925e-cda0eff1d42a",
   "metadata": {},
   "outputs": [],
   "source": [
    "#replace NaN values with 0 so we can do math with them\n",
    "df['GP'] = df['GP'].fillna(0)\n",
    "df['PTS'] = df['PTS'].fillna(0)\n",
    "df['REB'] = df['REB'].fillna(0)\n",
    "df['AST'] = df['AST'].fillna(0)\n",
    "df['STL'] = df['STL'].fillna(0)\n",
    "df['BLK'] = df['BLK'].fillna(0)\n",
    "df['FTA'] = df['FTA'].fillna(0)\n",
    "df['FTM'] = df['FTM'].fillna(0)\n",
    "df['3PA'] = df['3PA'].fillna(0)\n",
    "df['3PM'] = df['3PM'].fillna(0)\n",
    "df['PF'] = df['PF'].fillna(0)\n",
    "df['MIN'] = df['MIN'].fillna(0)"
   ]
  },
  {
   "cell_type": "code",
   "execution_count": 68,
   "id": "3daa2d01-30b9-4227-b112-2a24089b0f37",
   "metadata": {},
   "outputs": [],
   "source": [
    "#calculating our PI, Performance Index\n",
    "df['PIA']=df['PTS']+df['REB']+df['AST']+df['STL']+df['BLK']\n",
    "df['PIB1']=df['FTA']-df['FTM']\n",
    "df['PIB2']=df['3PA']-df['3PM']\n",
    "df['PIB']=df['PF']+df['PIB1']+df['PIB2']\n",
    "df['PI']=df['PIA']-df['PIB']"
   ]
  },
  {
   "cell_type": "code",
   "execution_count": 69,
   "id": "ef891a27-228e-43c6-bb8c-b2a10ba402d0",
   "metadata": {},
   "outputs": [
    {
     "data": {
      "text/html": [
       "<div>\n",
       "<style scoped>\n",
       "    .dataframe tbody tr th:only-of-type {\n",
       "        vertical-align: middle;\n",
       "    }\n",
       "\n",
       "    .dataframe tbody tr th {\n",
       "        vertical-align: top;\n",
       "    }\n",
       "\n",
       "    .dataframe thead th {\n",
       "        text-align: right;\n",
       "    }\n",
       "</style>\n",
       "<table border=\"1\" class=\"dataframe\">\n",
       "  <thead>\n",
       "    <tr style=\"text-align: right;\">\n",
       "      <th></th>\n",
       "      <th>Year</th>\n",
       "      <th>Player</th>\n",
       "      <th>Team</th>\n",
       "      <th>GP</th>\n",
       "      <th>MIN</th>\n",
       "      <th>FGM</th>\n",
       "      <th>FGA</th>\n",
       "      <th>3PM</th>\n",
       "      <th>3PA</th>\n",
       "      <th>FTM</th>\n",
       "      <th>...</th>\n",
       "      <th>REB</th>\n",
       "      <th>AST</th>\n",
       "      <th>STL</th>\n",
       "      <th>BLK</th>\n",
       "      <th>PTS</th>\n",
       "      <th>PIA</th>\n",
       "      <th>PIB1</th>\n",
       "      <th>PIB2</th>\n",
       "      <th>PIB</th>\n",
       "      <th>PI</th>\n",
       "    </tr>\n",
       "  </thead>\n",
       "  <tbody>\n",
       "    <tr>\n",
       "      <th>0</th>\n",
       "      <td>1950</td>\n",
       "      <td>Curly Armstrong</td>\n",
       "      <td>FTW</td>\n",
       "      <td>63.0</td>\n",
       "      <td>0.0</td>\n",
       "      <td>144.0</td>\n",
       "      <td>516.0</td>\n",
       "      <td>0.0</td>\n",
       "      <td>0.0</td>\n",
       "      <td>170.0</td>\n",
       "      <td>...</td>\n",
       "      <td>0.0</td>\n",
       "      <td>176.0</td>\n",
       "      <td>0.0</td>\n",
       "      <td>0.0</td>\n",
       "      <td>458.0</td>\n",
       "      <td>634.0</td>\n",
       "      <td>71.0</td>\n",
       "      <td>0.0</td>\n",
       "      <td>288.0</td>\n",
       "      <td>346.0</td>\n",
       "    </tr>\n",
       "    <tr>\n",
       "      <th>1</th>\n",
       "      <td>1950</td>\n",
       "      <td>Cliff Barker</td>\n",
       "      <td>INO</td>\n",
       "      <td>49.0</td>\n",
       "      <td>0.0</td>\n",
       "      <td>102.0</td>\n",
       "      <td>274.0</td>\n",
       "      <td>0.0</td>\n",
       "      <td>0.0</td>\n",
       "      <td>75.0</td>\n",
       "      <td>...</td>\n",
       "      <td>0.0</td>\n",
       "      <td>109.0</td>\n",
       "      <td>0.0</td>\n",
       "      <td>0.0</td>\n",
       "      <td>279.0</td>\n",
       "      <td>388.0</td>\n",
       "      <td>31.0</td>\n",
       "      <td>0.0</td>\n",
       "      <td>130.0</td>\n",
       "      <td>258.0</td>\n",
       "    </tr>\n",
       "    <tr>\n",
       "      <th>2</th>\n",
       "      <td>1950</td>\n",
       "      <td>Leo Barnhorst</td>\n",
       "      <td>CHS</td>\n",
       "      <td>67.0</td>\n",
       "      <td>0.0</td>\n",
       "      <td>174.0</td>\n",
       "      <td>499.0</td>\n",
       "      <td>0.0</td>\n",
       "      <td>0.0</td>\n",
       "      <td>90.0</td>\n",
       "      <td>...</td>\n",
       "      <td>0.0</td>\n",
       "      <td>140.0</td>\n",
       "      <td>0.0</td>\n",
       "      <td>0.0</td>\n",
       "      <td>438.0</td>\n",
       "      <td>578.0</td>\n",
       "      <td>39.0</td>\n",
       "      <td>0.0</td>\n",
       "      <td>231.0</td>\n",
       "      <td>347.0</td>\n",
       "    </tr>\n",
       "    <tr>\n",
       "      <th>3</th>\n",
       "      <td>1950</td>\n",
       "      <td>Ed Bartels</td>\n",
       "      <td>TOT</td>\n",
       "      <td>15.0</td>\n",
       "      <td>0.0</td>\n",
       "      <td>22.0</td>\n",
       "      <td>86.0</td>\n",
       "      <td>0.0</td>\n",
       "      <td>0.0</td>\n",
       "      <td>19.0</td>\n",
       "      <td>...</td>\n",
       "      <td>0.0</td>\n",
       "      <td>20.0</td>\n",
       "      <td>0.0</td>\n",
       "      <td>0.0</td>\n",
       "      <td>63.0</td>\n",
       "      <td>83.0</td>\n",
       "      <td>15.0</td>\n",
       "      <td>0.0</td>\n",
       "      <td>44.0</td>\n",
       "      <td>39.0</td>\n",
       "    </tr>\n",
       "    <tr>\n",
       "      <th>4</th>\n",
       "      <td>1950</td>\n",
       "      <td>Ed Bartels</td>\n",
       "      <td>DNN</td>\n",
       "      <td>13.0</td>\n",
       "      <td>0.0</td>\n",
       "      <td>21.0</td>\n",
       "      <td>82.0</td>\n",
       "      <td>0.0</td>\n",
       "      <td>0.0</td>\n",
       "      <td>17.0</td>\n",
       "      <td>...</td>\n",
       "      <td>0.0</td>\n",
       "      <td>20.0</td>\n",
       "      <td>0.0</td>\n",
       "      <td>0.0</td>\n",
       "      <td>59.0</td>\n",
       "      <td>79.0</td>\n",
       "      <td>14.0</td>\n",
       "      <td>0.0</td>\n",
       "      <td>41.0</td>\n",
       "      <td>38.0</td>\n",
       "    </tr>\n",
       "  </tbody>\n",
       "</table>\n",
       "<p>5 rows × 22 columns</p>\n",
       "</div>"
      ],
      "text/plain": [
       "   Year           Player Team    GP  MIN    FGM    FGA  3PM  3PA    FTM  ...  \\\n",
       "0  1950  Curly Armstrong  FTW  63.0  0.0  144.0  516.0  0.0  0.0  170.0  ...   \n",
       "1  1950     Cliff Barker  INO  49.0  0.0  102.0  274.0  0.0  0.0   75.0  ...   \n",
       "2  1950    Leo Barnhorst  CHS  67.0  0.0  174.0  499.0  0.0  0.0   90.0  ...   \n",
       "3  1950       Ed Bartels  TOT  15.0  0.0   22.0   86.0  0.0  0.0   19.0  ...   \n",
       "4  1950       Ed Bartels  DNN  13.0  0.0   21.0   82.0  0.0  0.0   17.0  ...   \n",
       "\n",
       "   REB    AST  STL  BLK    PTS    PIA  PIB1  PIB2    PIB     PI  \n",
       "0  0.0  176.0  0.0  0.0  458.0  634.0  71.0   0.0  288.0  346.0  \n",
       "1  0.0  109.0  0.0  0.0  279.0  388.0  31.0   0.0  130.0  258.0  \n",
       "2  0.0  140.0  0.0  0.0  438.0  578.0  39.0   0.0  231.0  347.0  \n",
       "3  0.0   20.0  0.0  0.0   63.0   83.0  15.0   0.0   44.0   39.0  \n",
       "4  0.0   20.0  0.0  0.0   59.0   79.0  14.0   0.0   41.0   38.0  \n",
       "\n",
       "[5 rows x 22 columns]"
      ]
     },
     "execution_count": 69,
     "metadata": {},
     "output_type": "execute_result"
    }
   ],
   "source": [
    "df.head()"
   ]
  },
  {
   "cell_type": "code",
   "execution_count": 70,
   "id": "6e98e1ed-d8d3-4dc9-9fe4-e28cd99c8d52",
   "metadata": {},
   "outputs": [],
   "source": [
    "#now I drop the columns that I don't need\n",
    "df=df.drop(['FGM', 'FGA', '3PM', '3PA',\n",
    "       'FTM', 'FTA', 'PF', 'REB', 'AST', 'STL', 'BLK', 'PIA', 'PIB1',\n",
    "       'PIB2', 'PIB'], axis=1)"
   ]
  },
  {
   "cell_type": "code",
   "execution_count": 71,
   "id": "6f6aab1d-5ffb-4fb7-a941-b4b422f72516",
   "metadata": {},
   "outputs": [
    {
     "data": {
      "text/html": [
       "<div>\n",
       "<style scoped>\n",
       "    .dataframe tbody tr th:only-of-type {\n",
       "        vertical-align: middle;\n",
       "    }\n",
       "\n",
       "    .dataframe tbody tr th {\n",
       "        vertical-align: top;\n",
       "    }\n",
       "\n",
       "    .dataframe thead th {\n",
       "        text-align: right;\n",
       "    }\n",
       "</style>\n",
       "<table border=\"1\" class=\"dataframe\">\n",
       "  <thead>\n",
       "    <tr style=\"text-align: right;\">\n",
       "      <th></th>\n",
       "      <th>Year</th>\n",
       "      <th>Player</th>\n",
       "      <th>Team</th>\n",
       "      <th>GP</th>\n",
       "      <th>MIN</th>\n",
       "      <th>PTS</th>\n",
       "      <th>PI</th>\n",
       "    </tr>\n",
       "  </thead>\n",
       "  <tbody>\n",
       "    <tr>\n",
       "      <th>0</th>\n",
       "      <td>1950</td>\n",
       "      <td>Curly Armstrong</td>\n",
       "      <td>FTW</td>\n",
       "      <td>63.0</td>\n",
       "      <td>0.0</td>\n",
       "      <td>458.0</td>\n",
       "      <td>346.0</td>\n",
       "    </tr>\n",
       "    <tr>\n",
       "      <th>1</th>\n",
       "      <td>1950</td>\n",
       "      <td>Cliff Barker</td>\n",
       "      <td>INO</td>\n",
       "      <td>49.0</td>\n",
       "      <td>0.0</td>\n",
       "      <td>279.0</td>\n",
       "      <td>258.0</td>\n",
       "    </tr>\n",
       "    <tr>\n",
       "      <th>2</th>\n",
       "      <td>1950</td>\n",
       "      <td>Leo Barnhorst</td>\n",
       "      <td>CHS</td>\n",
       "      <td>67.0</td>\n",
       "      <td>0.0</td>\n",
       "      <td>438.0</td>\n",
       "      <td>347.0</td>\n",
       "    </tr>\n",
       "    <tr>\n",
       "      <th>3</th>\n",
       "      <td>1950</td>\n",
       "      <td>Ed Bartels</td>\n",
       "      <td>TOT</td>\n",
       "      <td>15.0</td>\n",
       "      <td>0.0</td>\n",
       "      <td>63.0</td>\n",
       "      <td>39.0</td>\n",
       "    </tr>\n",
       "    <tr>\n",
       "      <th>4</th>\n",
       "      <td>1950</td>\n",
       "      <td>Ed Bartels</td>\n",
       "      <td>DNN</td>\n",
       "      <td>13.0</td>\n",
       "      <td>0.0</td>\n",
       "      <td>59.0</td>\n",
       "      <td>38.0</td>\n",
       "    </tr>\n",
       "  </tbody>\n",
       "</table>\n",
       "</div>"
      ],
      "text/plain": [
       "   Year           Player Team    GP  MIN    PTS     PI\n",
       "0  1950  Curly Armstrong  FTW  63.0  0.0  458.0  346.0\n",
       "1  1950     Cliff Barker  INO  49.0  0.0  279.0  258.0\n",
       "2  1950    Leo Barnhorst  CHS  67.0  0.0  438.0  347.0\n",
       "3  1950       Ed Bartels  TOT  15.0  0.0   63.0   39.0\n",
       "4  1950       Ed Bartels  DNN  13.0  0.0   59.0   38.0"
      ]
     },
     "execution_count": 71,
     "metadata": {},
     "output_type": "execute_result"
    }
   ],
   "source": [
    "df.head()"
   ]
  },
  {
   "cell_type": "code",
   "execution_count": 72,
   "id": "9726a7d6-1905-4d78-9cf1-19879bd88c7a",
   "metadata": {},
   "outputs": [
    {
     "data": {
      "text/html": [
       "<div>\n",
       "<style scoped>\n",
       "    .dataframe tbody tr th:only-of-type {\n",
       "        vertical-align: middle;\n",
       "    }\n",
       "\n",
       "    .dataframe tbody tr th {\n",
       "        vertical-align: top;\n",
       "    }\n",
       "\n",
       "    .dataframe thead th {\n",
       "        text-align: right;\n",
       "    }\n",
       "</style>\n",
       "<table border=\"1\" class=\"dataframe\">\n",
       "  <thead>\n",
       "    <tr style=\"text-align: right;\">\n",
       "      <th></th>\n",
       "      <th>Year</th>\n",
       "      <th>Player</th>\n",
       "      <th>Team</th>\n",
       "      <th>GP</th>\n",
       "      <th>MIN</th>\n",
       "      <th>PTS</th>\n",
       "      <th>PI</th>\n",
       "    </tr>\n",
       "  </thead>\n",
       "  <tbody>\n",
       "    <tr>\n",
       "      <th>26171</th>\n",
       "      <td>2021</td>\n",
       "      <td>Delon Wright</td>\n",
       "      <td>SAC</td>\n",
       "      <td>27.0</td>\n",
       "      <td>696.0</td>\n",
       "      <td>271.0</td>\n",
       "      <td>441.0</td>\n",
       "    </tr>\n",
       "    <tr>\n",
       "      <th>26172</th>\n",
       "      <td>2021</td>\n",
       "      <td>Thaddeus Young</td>\n",
       "      <td>CHI</td>\n",
       "      <td>68.0</td>\n",
       "      <td>1652.0</td>\n",
       "      <td>823.0</td>\n",
       "      <td>1424.0</td>\n",
       "    </tr>\n",
       "    <tr>\n",
       "      <th>26173</th>\n",
       "      <td>2021</td>\n",
       "      <td>Trae Young</td>\n",
       "      <td>ATL</td>\n",
       "      <td>63.0</td>\n",
       "      <td>2125.0</td>\n",
       "      <td>1594.0</td>\n",
       "      <td>2064.0</td>\n",
       "    </tr>\n",
       "    <tr>\n",
       "      <th>26174</th>\n",
       "      <td>2021</td>\n",
       "      <td>Cody Zeller</td>\n",
       "      <td>CHO</td>\n",
       "      <td>48.0</td>\n",
       "      <td>1005.0</td>\n",
       "      <td>451.0</td>\n",
       "      <td>730.0</td>\n",
       "    </tr>\n",
       "    <tr>\n",
       "      <th>26175</th>\n",
       "      <td>2021</td>\n",
       "      <td>Ivica Zubac</td>\n",
       "      <td>LAC</td>\n",
       "      <td>72.0</td>\n",
       "      <td>1609.0</td>\n",
       "      <td>650.0</td>\n",
       "      <td>1119.0</td>\n",
       "    </tr>\n",
       "  </tbody>\n",
       "</table>\n",
       "</div>"
      ],
      "text/plain": [
       "       Year          Player Team    GP     MIN     PTS      PI\n",
       "26171  2021    Delon Wright  SAC  27.0   696.0   271.0   441.0\n",
       "26172  2021  Thaddeus Young  CHI  68.0  1652.0   823.0  1424.0\n",
       "26173  2021      Trae Young  ATL  63.0  2125.0  1594.0  2064.0\n",
       "26174  2021     Cody Zeller  CHO  48.0  1005.0   451.0   730.0\n",
       "26175  2021     Ivica Zubac  LAC  72.0  1609.0   650.0  1119.0"
      ]
     },
     "execution_count": 72,
     "metadata": {},
     "output_type": "execute_result"
    }
   ],
   "source": [
    "df.tail()"
   ]
  },
  {
   "cell_type": "code",
   "execution_count": 73,
   "id": "b0a01c59-e304-489a-ae43-865cb063cf4e",
   "metadata": {},
   "outputs": [],
   "source": [
    "#The client wants to know time-based calculations, so my data should follow each player by year"
   ]
  },
  {
   "cell_type": "code",
   "execution_count": 76,
   "id": "ebe2536b-7d24-4015-a934-0ea12faa1fb9",
   "metadata": {},
   "outputs": [],
   "source": [
    "#group by player, find the average PI, then calculate the top 10 players\n",
    "#I can chart the top 10 players by year\n",
    "PlayerAvg=df.groupby('Player')['PI'].agg(['mean'])"
   ]
  },
  {
   "cell_type": "code",
   "execution_count": 77,
   "id": "10672d44-e7c1-4699-ae05-2239f522491b",
   "metadata": {},
   "outputs": [
    {
     "data": {
      "text/html": [
       "<div>\n",
       "<style scoped>\n",
       "    .dataframe tbody tr th:only-of-type {\n",
       "        vertical-align: middle;\n",
       "    }\n",
       "\n",
       "    .dataframe tbody tr th {\n",
       "        vertical-align: top;\n",
       "    }\n",
       "\n",
       "    .dataframe thead th {\n",
       "        text-align: right;\n",
       "    }\n",
       "</style>\n",
       "<table border=\"1\" class=\"dataframe\">\n",
       "  <thead>\n",
       "    <tr style=\"text-align: right;\">\n",
       "      <th></th>\n",
       "      <th>mean</th>\n",
       "    </tr>\n",
       "    <tr>\n",
       "      <th>Player</th>\n",
       "      <th></th>\n",
       "    </tr>\n",
       "  </thead>\n",
       "  <tbody>\n",
       "    <tr>\n",
       "      <th>Wilt Chamberlain*</th>\n",
       "      <td>3496.562500</td>\n",
       "    </tr>\n",
       "    <tr>\n",
       "      <th>Nikola Jokić</th>\n",
       "      <td>3031.000000</td>\n",
       "    </tr>\n",
       "    <tr>\n",
       "      <th>Kareem Abdul-Jabbar*</th>\n",
       "      <td>2928.500000</td>\n",
       "    </tr>\n",
       "    <tr>\n",
       "      <th>Bob Pettit*</th>\n",
       "      <td>2875.636364</td>\n",
       "    </tr>\n",
       "    <tr>\n",
       "      <th>Oscar Robertson*</th>\n",
       "      <td>2861.428571</td>\n",
       "    </tr>\n",
       "    <tr>\n",
       "      <th>Michael Jordan</th>\n",
       "      <td>2838.600000</td>\n",
       "    </tr>\n",
       "    <tr>\n",
       "      <th>Karl Malone*</th>\n",
       "      <td>2745.789474</td>\n",
       "    </tr>\n",
       "    <tr>\n",
       "      <th>LeBron James</th>\n",
       "      <td>2719.500000</td>\n",
       "    </tr>\n",
       "    <tr>\n",
       "      <th>Bill Russell*</th>\n",
       "      <td>2706.461538</td>\n",
       "    </tr>\n",
       "    <tr>\n",
       "      <th>Larry Bird*</th>\n",
       "      <td>2684.846154</td>\n",
       "    </tr>\n",
       "  </tbody>\n",
       "</table>\n",
       "</div>"
      ],
      "text/plain": [
       "                             mean\n",
       "Player                           \n",
       "Wilt Chamberlain*     3496.562500\n",
       "Nikola Jokić          3031.000000\n",
       "Kareem Abdul-Jabbar*  2928.500000\n",
       "Bob Pettit*           2875.636364\n",
       "Oscar Robertson*      2861.428571\n",
       "Michael Jordan        2838.600000\n",
       "Karl Malone*          2745.789474\n",
       "LeBron James          2719.500000\n",
       "Bill Russell*         2706.461538\n",
       "Larry Bird*           2684.846154"
      ]
     },
     "execution_count": 77,
     "metadata": {},
     "output_type": "execute_result"
    }
   ],
   "source": [
    "Top=PlayerAvg.nlargest(n=10, columns=['mean'])\n",
    "Top"
   ]
  },
  {
   "cell_type": "code",
   "execution_count": 94,
   "id": "5bc6be6b-581b-4818-a2c8-537cd06e2fc9",
   "metadata": {},
   "outputs": [
    {
     "data": {
      "text/html": [
       "<div>\n",
       "<style scoped>\n",
       "    .dataframe tbody tr th:only-of-type {\n",
       "        vertical-align: middle;\n",
       "    }\n",
       "\n",
       "    .dataframe tbody tr th {\n",
       "        vertical-align: top;\n",
       "    }\n",
       "\n",
       "    .dataframe thead th {\n",
       "        text-align: right;\n",
       "    }\n",
       "</style>\n",
       "<table border=\"1\" class=\"dataframe\">\n",
       "  <thead>\n",
       "    <tr style=\"text-align: right;\">\n",
       "      <th></th>\n",
       "      <th>Year</th>\n",
       "      <th>Player</th>\n",
       "      <th>Team</th>\n",
       "      <th>GP</th>\n",
       "      <th>MIN</th>\n",
       "      <th>PTS</th>\n",
       "      <th>PI</th>\n",
       "    </tr>\n",
       "  </thead>\n",
       "  <tbody>\n",
       "  </tbody>\n",
       "</table>\n",
       "</div>"
      ],
      "text/plain": [
       "Empty DataFrame\n",
       "Columns: [Year, Player, Team, GP, MIN, PTS, PI]\n",
       "Index: []"
      ]
     },
     "execution_count": 94,
     "metadata": {},
     "output_type": "execute_result"
    }
   ],
   "source": [
    "Top10=pd.np.where(df.Player.str.contains(\"Wilt Chamberlain\"), \"Wilt Chamberlain\",\n",
    "Top10"
>>>>>>> Stashed changes
   ]
  },
  {
   "cell_type": "code",
   "execution_count": null,
<<<<<<< Updated upstream
   "id": "f3ec46f6-d955-43c5-b47c-119b312020b6",
   "metadata": {},
   "outputs": [],
   "source": [
    "#I only need Age, City(Team), Total minutes played, Games played, and Points so I drop the rest\n",
    "data=data.drop(['Year', 'Player','FGM', 'FGA', '3PM', '3PA',\n",
    "       'FTM', 'FTA', 'TOV', 'PF', 'ORB', 'DRB', 'REB', 'AST', 'STL', 'BLK'], axis=1)"
=======
   "id": "dbfb7a24-57c2-4869-a828-a6775a6df07e",
   "metadata": {},
   "outputs": [],
   "source": [
    "sns.lineplot(data=WiltChamberlain, x=\"Year\", y=\"PI\", hue=\"Player\")"
>>>>>>> Stashed changes
   ]
  }
 ],
 "metadata": {
  "kernelspec": {
   "display_name": "Python 3 (ipykernel)",
   "language": "python",
   "name": "python3"
  },
  "language_info": {
   "codemirror_mode": {
    "name": "ipython",
    "version": 3
   },
   "file_extension": ".py",
   "mimetype": "text/x-python",
   "name": "python",
   "nbconvert_exporter": "python",
   "pygments_lexer": "ipython3",
   "version": "3.11.7"
  }
 },
 "nbformat": 4,
 "nbformat_minor": 5
}
