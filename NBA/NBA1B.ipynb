{
 "cells": [
  {
   "cell_type": "code",
   "execution_count": 6,
   "id": "e5d8f980-fef2-4c38-8574-213bf726875b",
   "metadata": {},
   "outputs": [],
   "source": [
    "import matplotlib.pyplot as plt\n",
    "import pandas as pd\n",
    "import seaborn as sns\n",
    "import numpy as np"
   ]
  },
  {
   "cell_type": "code",
   "execution_count": 7,
   "id": "09f2c0f5-82ed-402f-8730-7703004e4a39",
   "metadata": {},
   "outputs": [],
   "source": [
    "data=pd.read_csv('NBA_Stats_1950_2021_raw.csv')"
   ]
  },
  {
   "cell_type": "code",
   "execution_count": 8,
   "id": "fbfdca32-d7e9-4ec4-a578-068541f54e87",
   "metadata": {},
   "outputs": [
    {
     "data": {
      "text/html": [
       "<div>\n",
       "<style scoped>\n",
       "    .dataframe tbody tr th:only-of-type {\n",
       "        vertical-align: middle;\n",
       "    }\n",
       "\n",
       "    .dataframe tbody tr th {\n",
       "        vertical-align: top;\n",
       "    }\n",
       "\n",
       "    .dataframe thead th {\n",
       "        text-align: right;\n",
       "    }\n",
       "</style>\n",
       "<table border=\"1\" class=\"dataframe\">\n",
       "  <thead>\n",
       "    <tr style=\"text-align: right;\">\n",
       "      <th></th>\n",
       "      <th>Year</th>\n",
       "      <th>Player</th>\n",
       "      <th>Team</th>\n",
       "      <th>GP</th>\n",
       "      <th>MIN</th>\n",
       "      <th>FGM</th>\n",
       "      <th>FGA</th>\n",
       "      <th>3PM</th>\n",
       "      <th>3PA</th>\n",
       "      <th>FTM</th>\n",
       "      <th>FTA</th>\n",
       "      <th>TOV</th>\n",
       "      <th>PF</th>\n",
       "      <th>ORB</th>\n",
       "      <th>DRB</th>\n",
       "      <th>REB</th>\n",
       "      <th>AST</th>\n",
       "      <th>STL</th>\n",
       "      <th>BLK</th>\n",
       "      <th>PTS</th>\n",
       "    </tr>\n",
       "  </thead>\n",
       "  <tbody>\n",
       "    <tr>\n",
       "      <th>0</th>\n",
       "      <td>1950</td>\n",
       "      <td>Curly Armstrong</td>\n",
       "      <td>FTW</td>\n",
       "      <td>63.0</td>\n",
       "      <td>NaN</td>\n",
       "      <td>144.0</td>\n",
       "      <td>516.0</td>\n",
       "      <td>NaN</td>\n",
       "      <td>NaN</td>\n",
       "      <td>170.0</td>\n",
       "      <td>241.0</td>\n",
       "      <td>NaN</td>\n",
       "      <td>217.0</td>\n",
       "      <td>NaN</td>\n",
       "      <td>NaN</td>\n",
       "      <td>NaN</td>\n",
       "      <td>176.0</td>\n",
       "      <td>NaN</td>\n",
       "      <td>NaN</td>\n",
       "      <td>458.0</td>\n",
       "    </tr>\n",
       "    <tr>\n",
       "      <th>1</th>\n",
       "      <td>1950</td>\n",
       "      <td>Cliff Barker</td>\n",
       "      <td>INO</td>\n",
       "      <td>49.0</td>\n",
       "      <td>NaN</td>\n",
       "      <td>102.0</td>\n",
       "      <td>274.0</td>\n",
       "      <td>NaN</td>\n",
       "      <td>NaN</td>\n",
       "      <td>75.0</td>\n",
       "      <td>106.0</td>\n",
       "      <td>NaN</td>\n",
       "      <td>99.0</td>\n",
       "      <td>NaN</td>\n",
       "      <td>NaN</td>\n",
       "      <td>NaN</td>\n",
       "      <td>109.0</td>\n",
       "      <td>NaN</td>\n",
       "      <td>NaN</td>\n",
       "      <td>279.0</td>\n",
       "    </tr>\n",
       "    <tr>\n",
       "      <th>2</th>\n",
       "      <td>1950</td>\n",
       "      <td>Leo Barnhorst</td>\n",
       "      <td>CHS</td>\n",
       "      <td>67.0</td>\n",
       "      <td>NaN</td>\n",
       "      <td>174.0</td>\n",
       "      <td>499.0</td>\n",
       "      <td>NaN</td>\n",
       "      <td>NaN</td>\n",
       "      <td>90.0</td>\n",
       "      <td>129.0</td>\n",
       "      <td>NaN</td>\n",
       "      <td>192.0</td>\n",
       "      <td>NaN</td>\n",
       "      <td>NaN</td>\n",
       "      <td>NaN</td>\n",
       "      <td>140.0</td>\n",
       "      <td>NaN</td>\n",
       "      <td>NaN</td>\n",
       "      <td>438.0</td>\n",
       "    </tr>\n",
       "    <tr>\n",
       "      <th>3</th>\n",
       "      <td>1950</td>\n",
       "      <td>Ed Bartels</td>\n",
       "      <td>TOT</td>\n",
       "      <td>15.0</td>\n",
       "      <td>NaN</td>\n",
       "      <td>22.0</td>\n",
       "      <td>86.0</td>\n",
       "      <td>NaN</td>\n",
       "      <td>NaN</td>\n",
       "      <td>19.0</td>\n",
       "      <td>34.0</td>\n",
       "      <td>NaN</td>\n",
       "      <td>29.0</td>\n",
       "      <td>NaN</td>\n",
       "      <td>NaN</td>\n",
       "      <td>NaN</td>\n",
       "      <td>20.0</td>\n",
       "      <td>NaN</td>\n",
       "      <td>NaN</td>\n",
       "      <td>63.0</td>\n",
       "    </tr>\n",
       "    <tr>\n",
       "      <th>4</th>\n",
       "      <td>1950</td>\n",
       "      <td>Ed Bartels</td>\n",
       "      <td>DNN</td>\n",
       "      <td>13.0</td>\n",
       "      <td>NaN</td>\n",
       "      <td>21.0</td>\n",
       "      <td>82.0</td>\n",
       "      <td>NaN</td>\n",
       "      <td>NaN</td>\n",
       "      <td>17.0</td>\n",
       "      <td>31.0</td>\n",
       "      <td>NaN</td>\n",
       "      <td>27.0</td>\n",
       "      <td>NaN</td>\n",
       "      <td>NaN</td>\n",
       "      <td>NaN</td>\n",
       "      <td>20.0</td>\n",
       "      <td>NaN</td>\n",
       "      <td>NaN</td>\n",
       "      <td>59.0</td>\n",
       "    </tr>\n",
       "  </tbody>\n",
       "</table>\n",
       "</div>"
      ],
      "text/plain": [
       "   Year           Player Team    GP  MIN    FGM    FGA  3PM  3PA    FTM  \\\n",
       "0  1950  Curly Armstrong  FTW  63.0  NaN  144.0  516.0  NaN  NaN  170.0   \n",
       "1  1950     Cliff Barker  INO  49.0  NaN  102.0  274.0  NaN  NaN   75.0   \n",
       "2  1950    Leo Barnhorst  CHS  67.0  NaN  174.0  499.0  NaN  NaN   90.0   \n",
       "3  1950       Ed Bartels  TOT  15.0  NaN   22.0   86.0  NaN  NaN   19.0   \n",
       "4  1950       Ed Bartels  DNN  13.0  NaN   21.0   82.0  NaN  NaN   17.0   \n",
       "\n",
       "     FTA  TOV     PF  ORB  DRB  REB    AST  STL  BLK    PTS  \n",
       "0  241.0  NaN  217.0  NaN  NaN  NaN  176.0  NaN  NaN  458.0  \n",
       "1  106.0  NaN   99.0  NaN  NaN  NaN  109.0  NaN  NaN  279.0  \n",
       "2  129.0  NaN  192.0  NaN  NaN  NaN  140.0  NaN  NaN  438.0  \n",
       "3   34.0  NaN   29.0  NaN  NaN  NaN   20.0  NaN  NaN   63.0  \n",
       "4   31.0  NaN   27.0  NaN  NaN  NaN   20.0  NaN  NaN   59.0  "
      ]
     },
     "execution_count": 8,
     "metadata": {},
     "output_type": "execute_result"
    }
   ],
   "source": [
    "data.head()"
   ]
  },
  {
   "cell_type": "code",
   "execution_count": 1,
   "id": "a4d9d015-ecdb-4fe9-8517-e046dc4bceae",
   "metadata": {},
   "outputs": [],
   "source": [
    "#client requested age(year), city(team), total minutes played(MIN), and games played(GP)\n",
    "#I also need a metric to measure\n",
    "#I can calculate a performance index with (PTS+REB+AST+STL+BLK)-(PF+(FTA-FTM)+(3PA-3PM))\n",
    "#I truncated this from the performance calculation on Wikipedia's Basketball Statistics page: https://en.wikipedia.org/wiki/Basketball_statistics#:~:text=REB%2C%20OREB%2C%20DREB%3A%20rebounds,TO%3A%20turnovers"
   ]
  },
  {
   "cell_type": "code",
   "execution_count": 10,
   "id": "0488b622-2548-4386-9508-3d4eeb700697",
   "metadata": {},
   "outputs": [
    {
     "data": {
      "text/plain": [
       "(26176, 20)"
      ]
     },
     "execution_count": 10,
     "metadata": {},
     "output_type": "execute_result"
    }
   ],
   "source": [
    "data.shape"
   ]
  },
  {
   "cell_type": "code",
   "execution_count": 11,
   "id": "203ffcb6-dc94-46fd-972c-c1a47c02c364",
   "metadata": {},
   "outputs": [
    {
     "data": {
      "text/plain": [
       "Year        int64\n",
       "Player     object\n",
       "Team       object\n",
       "GP        float64\n",
       "MIN       float64\n",
       "FGM       float64\n",
       "FGA       float64\n",
       "3PM       float64\n",
       "3PA       float64\n",
       "FTM       float64\n",
       "FTA       float64\n",
       "TOV       float64\n",
       "PF        float64\n",
       "ORB       float64\n",
       "DRB       float64\n",
       "REB       float64\n",
       "AST       float64\n",
       "STL       float64\n",
       "BLK       float64\n",
       "PTS       float64\n",
       "dtype: object"
      ]
     },
     "execution_count": 11,
     "metadata": {},
     "output_type": "execute_result"
    }
   ],
   "source": [
    "data.dtypes"
   ]
  }
 ],
 "metadata": {
  "kernelspec": {
   "display_name": "Python 3 (ipykernel)",
   "language": "python",
   "name": "python3"
  },
  "language_info": {
   "codemirror_mode": {
    "name": "ipython",
    "version": 3
   },
   "file_extension": ".py",
   "mimetype": "text/x-python",
   "name": "python",
   "nbconvert_exporter": "python",
   "pygments_lexer": "ipython3",
   "version": "3.11.7"
  }
 },
 "nbformat": 4,
 "nbformat_minor": 5
}
